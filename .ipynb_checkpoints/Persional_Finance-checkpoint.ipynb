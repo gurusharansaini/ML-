{
 "cells": [
  {
   "cell_type": "code",
   "execution_count": 37,
   "id": "35800ce2-7eac-46bf-bf8c-b378f4d43a34",
   "metadata": {},
   "outputs": [],
   "source": [
    "import pandas as pd\n",
    "import numpy as np\n",
    "from datetime import datetime"
   ]
  },
  {
   "cell_type": "code",
   "execution_count": 19,
   "id": "ad5c01f5-8db4-4922-ad7f-859e29cc9677",
   "metadata": {},
   "outputs": [],
   "source": [
    "df = pd.read_excel(\"test.xlsx\")"
   ]
  },
  {
   "cell_type": "code",
   "execution_count": 20,
   "id": "8fedefd5-2f72-4b48-a6b2-e082656c8a98",
   "metadata": {},
   "outputs": [],
   "source": [
    "df.rename(columns={'Unnamed: 1': 'Perticular', 'Unnamed: 2': 'Type','Unnamed: 3':'Ampunt','Transaction Statement for 8233101894':'Date'}, inplace=True)"
   ]
  },
  {
   "cell_type": "code",
   "execution_count": 21,
   "id": "9057a94b-92ab-49e0-9f28-fceab5ab51a9",
   "metadata": {},
   "outputs": [
    {
     "data": {
      "text/html": [
       "<div>\n",
       "<style scoped>\n",
       "    .dataframe tbody tr th:only-of-type {\n",
       "        vertical-align: middle;\n",
       "    }\n",
       "\n",
       "    .dataframe tbody tr th {\n",
       "        vertical-align: top;\n",
       "    }\n",
       "\n",
       "    .dataframe thead th {\n",
       "        text-align: right;\n",
       "    }\n",
       "</style>\n",
       "<table border=\"1\" class=\"dataframe\">\n",
       "  <thead>\n",
       "    <tr style=\"text-align: right;\">\n",
       "      <th></th>\n",
       "      <th>Date</th>\n",
       "      <th>Transaction Details</th>\n",
       "      <th>Type</th>\n",
       "      <th>Amount</th>\n",
       "    </tr>\n",
       "  </thead>\n",
       "  <tbody>\n",
       "    <tr>\n",
       "      <th>0</th>\n",
       "      <td>Sep 15, 2024</td>\n",
       "      <td>Paid to Banti saini</td>\n",
       "      <td>DEBIT</td>\n",
       "      <td>₹15</td>\n",
       "    </tr>\n",
       "    <tr>\n",
       "      <th>1</th>\n",
       "      <td>Sep 14, 2024</td>\n",
       "      <td>Paid to Banti saini</td>\n",
       "      <td>DEBIT</td>\n",
       "      <td>₹20</td>\n",
       "    </tr>\n",
       "    <tr>\n",
       "      <th>2</th>\n",
       "      <td>Sep 13, 2024</td>\n",
       "      <td>Paid to Banti saini</td>\n",
       "      <td>DEBIT</td>\n",
       "      <td>₹20</td>\n",
       "    </tr>\n",
       "    <tr>\n",
       "      <th>3</th>\n",
       "      <td>Sep 13, 2024</td>\n",
       "      <td>Paid to MANAV</td>\n",
       "      <td>DEBIT</td>\n",
       "      <td>₹500</td>\n",
       "    </tr>\n",
       "    <tr>\n",
       "      <th>4</th>\n",
       "      <td>Sep 13, 2024</td>\n",
       "      <td>Paid to MANAV</td>\n",
       "      <td>DEBIT</td>\n",
       "      <td>₹500</td>\n",
       "    </tr>\n",
       "    <tr>\n",
       "      <th>5</th>\n",
       "      <td>Sep 13, 2024</td>\n",
       "      <td>Paid to Vijay Singh</td>\n",
       "      <td>DEBIT</td>\n",
       "      <td>₹40</td>\n",
       "    </tr>\n",
       "    <tr>\n",
       "      <th>6</th>\n",
       "      <td>Sep 13, 2024</td>\n",
       "      <td>Paid to Ramesh parlour</td>\n",
       "      <td>DEBIT</td>\n",
       "      <td>₹60</td>\n",
       "    </tr>\n",
       "  </tbody>\n",
       "</table>\n",
       "</div>"
      ],
      "text/plain": [
       "                    Date     Transaction Details   Type Amount\n",
       "0  Sep 15, 2024              Paid to Banti saini  DEBIT    ₹15\n",
       "1  Sep 14, 2024              Paid to Banti saini  DEBIT    ₹20\n",
       "2   Sep 13, 2024             Paid to Banti saini  DEBIT    ₹20\n",
       "3  Sep 13, 2024                    Paid to MANAV  DEBIT   ₹500\n",
       "4  Sep 13, 2024                    Paid to MANAV  DEBIT   ₹500\n",
       "5  Sep 13, 2024              Paid to Vijay Singh  DEBIT    ₹40\n",
       "6  Sep 13, 2024           Paid to Ramesh parlour  DEBIT    ₹60"
      ]
     },
     "execution_count": 21,
     "metadata": {},
     "output_type": "execute_result"
    }
   ],
   "source": [
    "df"
   ]
  },
  {
   "cell_type": "code",
   "execution_count": 22,
   "id": "8c6fb477-9290-4e60-86fd-849718793d4f",
   "metadata": {},
   "outputs": [],
   "source": [
    "df=df.drop(0)\n",
    "df=df.drop(1)"
   ]
  },
  {
   "cell_type": "code",
   "execution_count": 23,
   "id": "09a12e63-02e0-4589-92db-34a82539575f",
   "metadata": {},
   "outputs": [
    {
     "data": {
      "text/html": [
       "<div>\n",
       "<style scoped>\n",
       "    .dataframe tbody tr th:only-of-type {\n",
       "        vertical-align: middle;\n",
       "    }\n",
       "\n",
       "    .dataframe tbody tr th {\n",
       "        vertical-align: top;\n",
       "    }\n",
       "\n",
       "    .dataframe thead th {\n",
       "        text-align: right;\n",
       "    }\n",
       "</style>\n",
       "<table border=\"1\" class=\"dataframe\">\n",
       "  <thead>\n",
       "    <tr style=\"text-align: right;\">\n",
       "      <th></th>\n",
       "      <th>Date</th>\n",
       "      <th>Transaction Details</th>\n",
       "      <th>Type</th>\n",
       "      <th>Amount</th>\n",
       "    </tr>\n",
       "  </thead>\n",
       "  <tbody>\n",
       "    <tr>\n",
       "      <th>2</th>\n",
       "      <td>Sep 13, 2024</td>\n",
       "      <td>Paid to Banti saini</td>\n",
       "      <td>DEBIT</td>\n",
       "      <td>₹20</td>\n",
       "    </tr>\n",
       "    <tr>\n",
       "      <th>3</th>\n",
       "      <td>Sep 13, 2024</td>\n",
       "      <td>Paid to MANAV</td>\n",
       "      <td>DEBIT</td>\n",
       "      <td>₹500</td>\n",
       "    </tr>\n",
       "    <tr>\n",
       "      <th>4</th>\n",
       "      <td>Sep 13, 2024</td>\n",
       "      <td>Paid to MANAV</td>\n",
       "      <td>DEBIT</td>\n",
       "      <td>₹500</td>\n",
       "    </tr>\n",
       "    <tr>\n",
       "      <th>5</th>\n",
       "      <td>Sep 13, 2024</td>\n",
       "      <td>Paid to Vijay Singh</td>\n",
       "      <td>DEBIT</td>\n",
       "      <td>₹40</td>\n",
       "    </tr>\n",
       "    <tr>\n",
       "      <th>6</th>\n",
       "      <td>Sep 13, 2024</td>\n",
       "      <td>Paid to Ramesh parlour</td>\n",
       "      <td>DEBIT</td>\n",
       "      <td>₹60</td>\n",
       "    </tr>\n",
       "  </tbody>\n",
       "</table>\n",
       "</div>"
      ],
      "text/plain": [
       "                    Date     Transaction Details   Type Amount\n",
       "2   Sep 13, 2024             Paid to Banti saini  DEBIT    ₹20\n",
       "3  Sep 13, 2024                    Paid to MANAV  DEBIT   ₹500\n",
       "4  Sep 13, 2024                    Paid to MANAV  DEBIT   ₹500\n",
       "5  Sep 13, 2024              Paid to Vijay Singh  DEBIT    ₹40\n",
       "6  Sep 13, 2024           Paid to Ramesh parlour  DEBIT    ₹60"
      ]
     },
     "execution_count": 23,
     "metadata": {},
     "output_type": "execute_result"
    }
   ],
   "source": [
    "df"
   ]
  },
  {
   "cell_type": "code",
   "execution_count": 24,
   "id": "216d3fbb-06ad-4d98-b957-4246c3fc7909",
   "metadata": {},
   "outputs": [
    {
     "data": {
      "text/plain": [
       "'Sep 13, 2024        '"
      ]
     },
     "execution_count": 24,
     "metadata": {},
     "output_type": "execute_result"
    }
   ],
   "source": [
    "df[\"Date\"][2]"
   ]
  },
  {
   "cell_type": "code",
   "execution_count": 25,
   "id": "a30911ce-bac5-461f-b1b8-f8c6c508d2ae",
   "metadata": {},
   "outputs": [
    {
     "data": {
      "text/plain": [
       "Date                   0\n",
       "Transaction Details    0\n",
       "Type                   0\n",
       "Amount                 0\n",
       "dtype: int64"
      ]
     },
     "execution_count": 25,
     "metadata": {},
     "output_type": "execute_result"
    }
   ],
   "source": [
    "df.isnull().sum()"
   ]
  },
  {
   "cell_type": "code",
   "execution_count": 26,
   "id": "3001a7fb-8441-459a-ab7a-f6865cef704e",
   "metadata": {},
   "outputs": [],
   "source": [
    "df =df.dropna(axis = 0)"
   ]
  },
  {
   "cell_type": "code",
   "execution_count": 27,
   "id": "e21b6382-0832-4445-b035-81d348b362c5",
   "metadata": {},
   "outputs": [
    {
     "data": {
      "text/html": [
       "<div>\n",
       "<style scoped>\n",
       "    .dataframe tbody tr th:only-of-type {\n",
       "        vertical-align: middle;\n",
       "    }\n",
       "\n",
       "    .dataframe tbody tr th {\n",
       "        vertical-align: top;\n",
       "    }\n",
       "\n",
       "    .dataframe thead th {\n",
       "        text-align: right;\n",
       "    }\n",
       "</style>\n",
       "<table border=\"1\" class=\"dataframe\">\n",
       "  <thead>\n",
       "    <tr style=\"text-align: right;\">\n",
       "      <th></th>\n",
       "      <th>Date</th>\n",
       "      <th>Transaction Details</th>\n",
       "      <th>Type</th>\n",
       "      <th>Amount</th>\n",
       "    </tr>\n",
       "  </thead>\n",
       "  <tbody>\n",
       "    <tr>\n",
       "      <th>2</th>\n",
       "      <td>Sep 13, 2024</td>\n",
       "      <td>Paid to Banti saini</td>\n",
       "      <td>DEBIT</td>\n",
       "      <td>₹20</td>\n",
       "    </tr>\n",
       "    <tr>\n",
       "      <th>3</th>\n",
       "      <td>Sep 13, 2024</td>\n",
       "      <td>Paid to MANAV</td>\n",
       "      <td>DEBIT</td>\n",
       "      <td>₹500</td>\n",
       "    </tr>\n",
       "    <tr>\n",
       "      <th>4</th>\n",
       "      <td>Sep 13, 2024</td>\n",
       "      <td>Paid to MANAV</td>\n",
       "      <td>DEBIT</td>\n",
       "      <td>₹500</td>\n",
       "    </tr>\n",
       "    <tr>\n",
       "      <th>5</th>\n",
       "      <td>Sep 13, 2024</td>\n",
       "      <td>Paid to Vijay Singh</td>\n",
       "      <td>DEBIT</td>\n",
       "      <td>₹40</td>\n",
       "    </tr>\n",
       "    <tr>\n",
       "      <th>6</th>\n",
       "      <td>Sep 13, 2024</td>\n",
       "      <td>Paid to Ramesh parlour</td>\n",
       "      <td>DEBIT</td>\n",
       "      <td>₹60</td>\n",
       "    </tr>\n",
       "  </tbody>\n",
       "</table>\n",
       "</div>"
      ],
      "text/plain": [
       "                    Date     Transaction Details   Type Amount\n",
       "2   Sep 13, 2024             Paid to Banti saini  DEBIT    ₹20\n",
       "3  Sep 13, 2024                    Paid to MANAV  DEBIT   ₹500\n",
       "4  Sep 13, 2024                    Paid to MANAV  DEBIT   ₹500\n",
       "5  Sep 13, 2024              Paid to Vijay Singh  DEBIT    ₹40\n",
       "6  Sep 13, 2024           Paid to Ramesh parlour  DEBIT    ₹60"
      ]
     },
     "execution_count": 27,
     "metadata": {},
     "output_type": "execute_result"
    }
   ],
   "source": [
    "df"
   ]
  },
  {
   "cell_type": "markdown",
   "id": "24ac2d60-ac8e-490f-ab49-b178d3f1969d",
   "metadata": {},
   "source": [
    "## reste index"
   ]
  },
  {
   "cell_type": "code",
   "execution_count": 28,
   "id": "f3db88c3-aed6-48ff-85f8-a682a985e0f5",
   "metadata": {},
   "outputs": [],
   "source": [
    "\n",
    "\n",
    "df.reset_index(inplace = True, drop = True)"
   ]
  },
  {
   "cell_type": "code",
   "execution_count": 12,
   "id": "46a3674b-b01e-4881-8c5b-92a9620f233b",
   "metadata": {},
   "outputs": [
    {
     "data": {
      "text/html": [
       "<div>\n",
       "<style scoped>\n",
       "    .dataframe tbody tr th:only-of-type {\n",
       "        vertical-align: middle;\n",
       "    }\n",
       "\n",
       "    .dataframe tbody tr th {\n",
       "        vertical-align: top;\n",
       "    }\n",
       "\n",
       "    .dataframe thead th {\n",
       "        text-align: right;\n",
       "    }\n",
       "</style>\n",
       "<table border=\"1\" class=\"dataframe\">\n",
       "  <thead>\n",
       "    <tr style=\"text-align: right;\">\n",
       "      <th></th>\n",
       "      <th>Date</th>\n",
       "      <th>Transaction Details</th>\n",
       "      <th>Type</th>\n",
       "      <th>Amount</th>\n",
       "    </tr>\n",
       "  </thead>\n",
       "  <tbody>\n",
       "    <tr>\n",
       "      <th>0</th>\n",
       "      <td>Sep 13, 2024</td>\n",
       "      <td>Paid to Banti saini</td>\n",
       "      <td>DEBIT</td>\n",
       "      <td>₹20</td>\n",
       "    </tr>\n",
       "    <tr>\n",
       "      <th>1</th>\n",
       "      <td>Sep 13, 2024</td>\n",
       "      <td>Paid to MANAV</td>\n",
       "      <td>DEBIT</td>\n",
       "      <td>₹500</td>\n",
       "    </tr>\n",
       "    <tr>\n",
       "      <th>2</th>\n",
       "      <td>Sep 13, 2024</td>\n",
       "      <td>Paid to MANAV</td>\n",
       "      <td>DEBIT</td>\n",
       "      <td>₹500</td>\n",
       "    </tr>\n",
       "    <tr>\n",
       "      <th>3</th>\n",
       "      <td>Sep 13, 2024</td>\n",
       "      <td>Paid to Vijay Singh</td>\n",
       "      <td>DEBIT</td>\n",
       "      <td>₹40</td>\n",
       "    </tr>\n",
       "    <tr>\n",
       "      <th>4</th>\n",
       "      <td>Sep 13, 2024</td>\n",
       "      <td>Paid to Ramesh parlour</td>\n",
       "      <td>DEBIT</td>\n",
       "      <td>₹60</td>\n",
       "    </tr>\n",
       "  </tbody>\n",
       "</table>\n",
       "</div>"
      ],
      "text/plain": [
       "                    Date     Transaction Details   Type Amount\n",
       "0   Sep 13, 2024             Paid to Banti saini  DEBIT    ₹20\n",
       "1  Sep 13, 2024                    Paid to MANAV  DEBIT   ₹500\n",
       "2  Sep 13, 2024                    Paid to MANAV  DEBIT   ₹500\n",
       "3  Sep 13, 2024              Paid to Vijay Singh  DEBIT    ₹40\n",
       "4  Sep 13, 2024           Paid to Ramesh parlour  DEBIT    ₹60"
      ]
     },
     "execution_count": 12,
     "metadata": {},
     "output_type": "execute_result"
    }
   ],
   "source": [
    "df"
   ]
  },
  {
   "cell_type": "code",
   "execution_count": 32,
   "id": "97b2a577-9962-4614-bcc2-7a8a860fb617",
   "metadata": {},
   "outputs": [
    {
     "data": {
      "text/plain": [
       "str"
      ]
     },
     "execution_count": 32,
     "metadata": {},
     "output_type": "execute_result"
    }
   ],
   "source": [
    "##processing with Amount columns.\n",
    "\n",
    "type(df['Amount'][2])"
   ]
  },
  {
   "cell_type": "code",
   "execution_count": 33,
   "id": "ae84d651-aa40-482e-a3d1-5daa1f83eecf",
   "metadata": {},
   "outputs": [
    {
     "data": {
      "text/plain": [
       "'500'"
      ]
     },
     "execution_count": 33,
     "metadata": {},
     "output_type": "execute_result"
    }
   ],
   "source": [
    "df['Amount'][2][1:]"
   ]
  },
  {
   "cell_type": "code",
   "execution_count": 35,
   "id": "bbb8cf22-2e14-4036-880e-e6c212b9edaa",
   "metadata": {},
   "outputs": [],
   "source": [
    "df['Amount'] = df['Amount'].apply(lambda x: int(x[1:]))"
   ]
  },
  {
   "cell_type": "markdown",
   "id": "67f4dc03-c17c-4caa-bfca-e1d42b006ad1",
   "metadata": {},
   "source": [
    "## handle Date column"
   ]
  },
  {
   "cell_type": "code",
   "execution_count": 43,
   "id": "c82af570-0b73-4e34-b7a6-ade2661612dd",
   "metadata": {},
   "outputs": [
    {
     "data": {
      "text/plain": [
       "str"
      ]
     },
     "execution_count": 43,
     "metadata": {},
     "output_type": "execute_result"
    }
   ],
   "source": [
    "#type(df['Date'][0])"
   ]
  },
  {
   "cell_type": "code",
   "execution_count": 44,
   "id": "3f456c88-217c-47fd-aa64-00383d8a5fcf",
   "metadata": {},
   "outputs": [],
   "source": [
    "#df['Date'][0].strftime(\"%Y-%m-%d\")"
   ]
  },
  {
   "cell_type": "code",
   "execution_count": 45,
   "id": "2c82cf2c-1a8e-48b6-8e3e-6ccba9a1110e",
   "metadata": {},
   "outputs": [],
   "source": [
    "# df['Date']= df['Date'].apply(lambda x: x.strftime(\"%Y-%m-%d\"))"
   ]
  },
  {
   "cell_type": "code",
   "execution_count": 46,
   "id": "fdf20c9d-7199-43a1-8d5f-3c2415c1ccf8",
   "metadata": {},
   "outputs": [
    {
     "data": {
      "text/html": [
       "<div>\n",
       "<style scoped>\n",
       "    .dataframe tbody tr th:only-of-type {\n",
       "        vertical-align: middle;\n",
       "    }\n",
       "\n",
       "    .dataframe tbody tr th {\n",
       "        vertical-align: top;\n",
       "    }\n",
       "\n",
       "    .dataframe thead th {\n",
       "        text-align: right;\n",
       "    }\n",
       "</style>\n",
       "<table border=\"1\" class=\"dataframe\">\n",
       "  <thead>\n",
       "    <tr style=\"text-align: right;\">\n",
       "      <th></th>\n",
       "      <th>Date</th>\n",
       "      <th>Transaction Details</th>\n",
       "      <th>Type</th>\n",
       "      <th>Amount</th>\n",
       "    </tr>\n",
       "  </thead>\n",
       "  <tbody>\n",
       "    <tr>\n",
       "      <th>0</th>\n",
       "      <td>Sep 13, 2024</td>\n",
       "      <td>Paid to Banti saini</td>\n",
       "      <td>DEBIT</td>\n",
       "      <td>20</td>\n",
       "    </tr>\n",
       "    <tr>\n",
       "      <th>1</th>\n",
       "      <td>Sep 13, 2024</td>\n",
       "      <td>Paid to MANAV</td>\n",
       "      <td>DEBIT</td>\n",
       "      <td>500</td>\n",
       "    </tr>\n",
       "    <tr>\n",
       "      <th>2</th>\n",
       "      <td>Sep 13, 2024</td>\n",
       "      <td>Paid to MANAV</td>\n",
       "      <td>DEBIT</td>\n",
       "      <td>500</td>\n",
       "    </tr>\n",
       "    <tr>\n",
       "      <th>3</th>\n",
       "      <td>Sep 13, 2024</td>\n",
       "      <td>Paid to Vijay Singh</td>\n",
       "      <td>DEBIT</td>\n",
       "      <td>40</td>\n",
       "    </tr>\n",
       "    <tr>\n",
       "      <th>4</th>\n",
       "      <td>Sep 13, 2024</td>\n",
       "      <td>Paid to Ramesh parlour</td>\n",
       "      <td>DEBIT</td>\n",
       "      <td>60</td>\n",
       "    </tr>\n",
       "  </tbody>\n",
       "</table>\n",
       "</div>"
      ],
      "text/plain": [
       "                    Date     Transaction Details   Type  Amount\n",
       "0   Sep 13, 2024             Paid to Banti saini  DEBIT      20\n",
       "1  Sep 13, 2024                    Paid to MANAV  DEBIT     500\n",
       "2  Sep 13, 2024                    Paid to MANAV  DEBIT     500\n",
       "3  Sep 13, 2024              Paid to Vijay Singh  DEBIT      40\n",
       "4  Sep 13, 2024           Paid to Ramesh parlour  DEBIT      60"
      ]
     },
     "execution_count": 46,
     "metadata": {},
     "output_type": "execute_result"
    }
   ],
   "source": [
    "df"
   ]
  },
  {
   "cell_type": "markdown",
   "id": "28152ff7-209b-462b-8967-ed5019f2feea",
   "metadata": {
    "scrolled": true
   },
   "source": [
    "## split data in credit or debit\n",
    "\n"
   ]
  },
  {
   "cell_type": "code",
   "execution_count": 47,
   "id": "c05f3389-930a-4696-a4f5-2dad06868dac",
   "metadata": {},
   "outputs": [],
   "source": [
    "\n",
    "df_out = df[df.Type ==\"DEBIT\"]"
   ]
  },
  {
   "cell_type": "code",
   "execution_count": 48,
   "id": "d5323faf-a1bd-403f-8370-9a757083db9b",
   "metadata": {},
   "outputs": [
    {
     "data": {
      "text/html": [
       "<div>\n",
       "<style scoped>\n",
       "    .dataframe tbody tr th:only-of-type {\n",
       "        vertical-align: middle;\n",
       "    }\n",
       "\n",
       "    .dataframe tbody tr th {\n",
       "        vertical-align: top;\n",
       "    }\n",
       "\n",
       "    .dataframe thead th {\n",
       "        text-align: right;\n",
       "    }\n",
       "</style>\n",
       "<table border=\"1\" class=\"dataframe\">\n",
       "  <thead>\n",
       "    <tr style=\"text-align: right;\">\n",
       "      <th></th>\n",
       "      <th>Date</th>\n",
       "      <th>Transaction Details</th>\n",
       "      <th>Type</th>\n",
       "      <th>Amount</th>\n",
       "    </tr>\n",
       "  </thead>\n",
       "  <tbody>\n",
       "    <tr>\n",
       "      <th>0</th>\n",
       "      <td>Sep 13, 2024</td>\n",
       "      <td>Paid to Banti saini</td>\n",
       "      <td>DEBIT</td>\n",
       "      <td>20</td>\n",
       "    </tr>\n",
       "    <tr>\n",
       "      <th>1</th>\n",
       "      <td>Sep 13, 2024</td>\n",
       "      <td>Paid to MANAV</td>\n",
       "      <td>DEBIT</td>\n",
       "      <td>500</td>\n",
       "    </tr>\n",
       "    <tr>\n",
       "      <th>2</th>\n",
       "      <td>Sep 13, 2024</td>\n",
       "      <td>Paid to MANAV</td>\n",
       "      <td>DEBIT</td>\n",
       "      <td>500</td>\n",
       "    </tr>\n",
       "    <tr>\n",
       "      <th>3</th>\n",
       "      <td>Sep 13, 2024</td>\n",
       "      <td>Paid to Vijay Singh</td>\n",
       "      <td>DEBIT</td>\n",
       "      <td>40</td>\n",
       "    </tr>\n",
       "    <tr>\n",
       "      <th>4</th>\n",
       "      <td>Sep 13, 2024</td>\n",
       "      <td>Paid to Ramesh parlour</td>\n",
       "      <td>DEBIT</td>\n",
       "      <td>60</td>\n",
       "    </tr>\n",
       "  </tbody>\n",
       "</table>\n",
       "</div>"
      ],
      "text/plain": [
       "                    Date     Transaction Details   Type  Amount\n",
       "0   Sep 13, 2024             Paid to Banti saini  DEBIT      20\n",
       "1  Sep 13, 2024                    Paid to MANAV  DEBIT     500\n",
       "2  Sep 13, 2024                    Paid to MANAV  DEBIT     500\n",
       "3  Sep 13, 2024              Paid to Vijay Singh  DEBIT      40\n",
       "4  Sep 13, 2024           Paid to Ramesh parlour  DEBIT      60"
      ]
     },
     "execution_count": 48,
     "metadata": {},
     "output_type": "execute_result"
    }
   ],
   "source": [
    "df_out"
   ]
  },
  {
   "cell_type": "code",
   "execution_count": 49,
   "id": "fe2f2460-e27f-4964-b113-efeab84e63e7",
   "metadata": {},
   "outputs": [],
   "source": [
    "df_in = df[df.Type ==\"CREDIT\"]"
   ]
  },
  {
   "cell_type": "code",
   "execution_count": 50,
   "id": "14e36b77-a534-4555-a697-c5af9a1af54a",
   "metadata": {},
   "outputs": [
    {
     "data": {
      "text/html": [
       "<div>\n",
       "<style scoped>\n",
       "    .dataframe tbody tr th:only-of-type {\n",
       "        vertical-align: middle;\n",
       "    }\n",
       "\n",
       "    .dataframe tbody tr th {\n",
       "        vertical-align: top;\n",
       "    }\n",
       "\n",
       "    .dataframe thead th {\n",
       "        text-align: right;\n",
       "    }\n",
       "</style>\n",
       "<table border=\"1\" class=\"dataframe\">\n",
       "  <thead>\n",
       "    <tr style=\"text-align: right;\">\n",
       "      <th></th>\n",
       "      <th>Date</th>\n",
       "      <th>Transaction Details</th>\n",
       "      <th>Type</th>\n",
       "      <th>Amount</th>\n",
       "    </tr>\n",
       "  </thead>\n",
       "  <tbody>\n",
       "  </tbody>\n",
       "</table>\n",
       "</div>"
      ],
      "text/plain": [
       "Empty DataFrame\n",
       "Columns: [Date, Transaction Details, Type, Amount]\n",
       "Index: []"
      ]
     },
     "execution_count": 50,
     "metadata": {},
     "output_type": "execute_result"
    }
   ],
   "source": [
    "df_in"
   ]
  },
  {
   "cell_type": "markdown",
   "id": "3ee1608d-afb0-4e01-a73b-422cc483aef5",
   "metadata": {},
   "source": [
    "## Represintation for insights"
   ]
  },
  {
   "cell_type": "code",
   "execution_count": 1,
   "id": "71824389-5412-47d7-9ccb-cd6f0f3537b6",
   "metadata": {},
   "outputs": [],
   "source": [
    "import seaborn as sns\n",
    "import matplotlib.pyplot as plt\n"
   ]
  },
  {
   "cell_type": "code",
   "execution_count": null,
   "id": "fd083423-7f4d-4369-bff5-eda8fd3651b6",
   "metadata": {},
   "outputs": [],
   "source": []
  },
  {
   "cell_type": "code",
   "execution_count": null,
   "id": "358e2aa7-965b-4c0b-a6eb-002f5d908334",
   "metadata": {},
   "outputs": [],
   "source": []
  },
  {
   "cell_type": "code",
   "execution_count": null,
   "id": "f35dae58-339c-4d6a-8fce-21723a79771e",
   "metadata": {},
   "outputs": [],
   "source": []
  },
  {
   "cell_type": "code",
   "execution_count": null,
   "id": "8e733f36-5747-4b43-b2c4-0def1a851f8a",
   "metadata": {},
   "outputs": [],
   "source": []
  },
  {
   "cell_type": "code",
   "execution_count": null,
   "id": "2ca9c42a-0d61-4a90-9d54-6c6aa1afbd6b",
   "metadata": {},
   "outputs": [],
   "source": []
  },
  {
   "cell_type": "code",
   "execution_count": null,
   "id": "d51da162-b62a-407c-84f3-5cdc0009fa4a",
   "metadata": {},
   "outputs": [],
   "source": []
  },
  {
   "cell_type": "code",
   "execution_count": null,
   "id": "1064802e-b50a-4a77-9bca-7328fe0d2daf",
   "metadata": {},
   "outputs": [],
   "source": []
  },
  {
   "cell_type": "code",
   "execution_count": null,
   "id": "387a71e7-2850-4f74-8a77-76be12a15d53",
   "metadata": {},
   "outputs": [],
   "source": []
  },
  {
   "cell_type": "code",
   "execution_count": null,
   "id": "9054620f-023e-47c9-9b3e-c8d6f3875904",
   "metadata": {},
   "outputs": [],
   "source": []
  },
  {
   "cell_type": "code",
   "execution_count": null,
   "id": "d2b1ae6f-a7cb-4654-b3cb-9821ff41c43e",
   "metadata": {},
   "outputs": [],
   "source": []
  },
  {
   "cell_type": "code",
   "execution_count": null,
   "id": "1a8855ea-674e-4cde-86ec-8b3b14134249",
   "metadata": {},
   "outputs": [],
   "source": []
  }
 ],
 "metadata": {
  "kernelspec": {
   "display_name": "Python 3 (ipykernel)",
   "language": "python",
   "name": "python3"
  },
  "language_info": {
   "codemirror_mode": {
    "name": "ipython",
    "version": 3
   },
   "file_extension": ".py",
   "mimetype": "text/x-python",
   "name": "python",
   "nbconvert_exporter": "python",
   "pygments_lexer": "ipython3",
   "version": "3.12.6"
  }
 },
 "nbformat": 4,
 "nbformat_minor": 5
}
