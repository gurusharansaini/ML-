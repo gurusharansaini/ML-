{
 "cells": [
  {
   "cell_type": "code",
   "execution_count": 2,
   "id": "674bba34-1fbc-4bc7-8385-990faea7839a",
   "metadata": {},
   "outputs": [
    {
     "name": "stdout",
     "output_type": "stream",
     "text": [
      "hello world\n"
     ]
    }
   ],
   "source": [
    "print(\"hello world\")"
   ]
  },
  {
   "cell_type": "code",
   "execution_count": 3,
   "id": "216837c8-b8d7-4db7-a4b7-614e698426ed",
   "metadata": {},
   "outputs": [],
   "source": [
    "import pandas as pd"
   ]
  },
  {
   "cell_type": "code",
   "execution_count": 4,
   "id": "52ad30ba-3f4d-4f1c-93fc-ea69cdeeb520",
   "metadata": {},
   "outputs": [],
   "source": [
    "test_df = pd.read_excel(\"Statement.xlsx\")"
   ]
  },
  {
   "cell_type": "code",
   "execution_count": 5,
   "id": "027655a5-31d7-47a6-b5a8-1e4dc210f8ef",
   "metadata": {},
   "outputs": [
    {
     "data": {
      "text/html": [
       "<div>\n",
       "<style scoped>\n",
       "    .dataframe tbody tr th:only-of-type {\n",
       "        vertical-align: middle;\n",
       "    }\n",
       "\n",
       "    .dataframe tbody tr th {\n",
       "        vertical-align: top;\n",
       "    }\n",
       "\n",
       "    .dataframe thead th {\n",
       "        text-align: right;\n",
       "    }\n",
       "</style>\n",
       "<table border=\"1\" class=\"dataframe\">\n",
       "  <thead>\n",
       "    <tr style=\"text-align: right;\">\n",
       "      <th></th>\n",
       "      <th>Transaction Statement for 8233101894</th>\n",
       "      <th>Unnamed: 1</th>\n",
       "      <th>Unnamed: 2</th>\n",
       "      <th>Unnamed: 3</th>\n",
       "    </tr>\n",
       "  </thead>\n",
       "  <tbody>\n",
       "    <tr>\n",
       "      <th>0</th>\n",
       "      <td>NaN</td>\n",
       "      <td>01 Jan, 2024 - 30 Sep, 2024</td>\n",
       "      <td>NaN</td>\n",
       "      <td>NaN</td>\n",
       "    </tr>\n",
       "    <tr>\n",
       "      <th>1</th>\n",
       "      <td>Date</td>\n",
       "      <td>Transaction Details</td>\n",
       "      <td>Type</td>\n",
       "      <td>Amount</td>\n",
       "    </tr>\n",
       "    <tr>\n",
       "      <th>2</th>\n",
       "      <td>Sep 20, 2024         Paid to Ashok Jayani Citm</td>\n",
       "      <td>NaN</td>\n",
       "      <td>DEBIT</td>\n",
       "      <td>₹10</td>\n",
       "    </tr>\n",
       "    <tr>\n",
       "      <th>3</th>\n",
       "      <td>04:14 pm</td>\n",
       "      <td>Transaction ID T2409201614203016273177\\nUTR No...</td>\n",
       "      <td>NaN</td>\n",
       "      <td>NaN</td>\n",
       "    </tr>\n",
       "    <tr>\n",
       "      <th>4</th>\n",
       "      <td>NaN</td>\n",
       "      <td>Paid by           XXXXXX9791</td>\n",
       "      <td>NaN</td>\n",
       "      <td>NaN</td>\n",
       "    </tr>\n",
       "    <tr>\n",
       "      <th>5</th>\n",
       "      <td>Sep 20, 2024         Paid to UJjawal Jindal Ch...</td>\n",
       "      <td>NaN</td>\n",
       "      <td>DEBIT</td>\n",
       "      <td>₹1</td>\n",
       "    </tr>\n",
       "    <tr>\n",
       "      <th>6</th>\n",
       "      <td>04:08 pm</td>\n",
       "      <td>Transaction ID T2409201608334262678215\\nUTR No...</td>\n",
       "      <td>NaN</td>\n",
       "      <td>NaN</td>\n",
       "    </tr>\n",
       "    <tr>\n",
       "      <th>7</th>\n",
       "      <td>NaN</td>\n",
       "      <td>Paid by           XXXXXX9791</td>\n",
       "      <td>NaN</td>\n",
       "      <td>NaN</td>\n",
       "    </tr>\n",
       "  </tbody>\n",
       "</table>\n",
       "</div>"
      ],
      "text/plain": [
       "                Transaction Statement for 8233101894  \\\n",
       "0                                                NaN   \n",
       "1                                               Date   \n",
       "2     Sep 20, 2024         Paid to Ashok Jayani Citm   \n",
       "3                                           04:14 pm   \n",
       "4                                                NaN   \n",
       "5  Sep 20, 2024         Paid to UJjawal Jindal Ch...   \n",
       "6                                           04:08 pm   \n",
       "7                                                NaN   \n",
       "\n",
       "                                          Unnamed: 1 Unnamed: 2 Unnamed: 3  \n",
       "0                        01 Jan, 2024 - 30 Sep, 2024        NaN        NaN  \n",
       "1                                Transaction Details       Type     Amount  \n",
       "2                                                NaN      DEBIT        ₹10  \n",
       "3  Transaction ID T2409201614203016273177\\nUTR No...        NaN        NaN  \n",
       "4                       Paid by           XXXXXX9791        NaN        NaN  \n",
       "5                                                NaN      DEBIT         ₹1  \n",
       "6  Transaction ID T2409201608334262678215\\nUTR No...        NaN        NaN  \n",
       "7                       Paid by           XXXXXX9791        NaN        NaN  "
      ]
     },
     "execution_count": 5,
     "metadata": {},
     "output_type": "execute_result"
    }
   ],
   "source": [
    "test_df.head(8)"
   ]
  },
  {
   "cell_type": "code",
   "execution_count": null,
   "id": "a5b999d3-80e3-48df-8cc8-d1050476cc7b",
   "metadata": {},
   "outputs": [],
   "source": []
  },
  {
   "cell_type": "code",
   "execution_count": 9,
   "id": "1a0991f7-b956-458e-95b4-17ab6e1e0cbc",
   "metadata": {},
   "outputs": [],
   "source": []
  },
  {
   "cell_type": "code",
   "execution_count": 10,
   "id": "9816b478-6fb5-49ee-855d-ac8b960f28e9",
   "metadata": {},
   "outputs": [
    {
     "data": {
      "text/html": [
       "<div>\n",
       "<style scoped>\n",
       "    .dataframe tbody tr th:only-of-type {\n",
       "        vertical-align: middle;\n",
       "    }\n",
       "\n",
       "    .dataframe tbody tr th {\n",
       "        vertical-align: top;\n",
       "    }\n",
       "\n",
       "    .dataframe thead th {\n",
       "        text-align: right;\n",
       "    }\n",
       "</style>\n",
       "<table border=\"1\" class=\"dataframe\">\n",
       "  <thead>\n",
       "    <tr style=\"text-align: right;\">\n",
       "      <th></th>\n",
       "      <th>Transaction Statement for 8233101894</th>\n",
       "      <th>Unnamed: 1</th>\n",
       "      <th>Unnamed: 2</th>\n",
       "      <th>Unnamed: 3</th>\n",
       "    </tr>\n",
       "  </thead>\n",
       "  <tbody>\n",
       "    <tr>\n",
       "      <th>1</th>\n",
       "      <td>Date</td>\n",
       "      <td>Transaction Details</td>\n",
       "      <td>Type</td>\n",
       "      <td>Amount</td>\n",
       "    </tr>\n",
       "    <tr>\n",
       "      <th>25</th>\n",
       "      <td>Sep 13, 2024</td>\n",
       "      <td>Paid to Vijay Singh</td>\n",
       "      <td>DEBIT</td>\n",
       "      <td>₹40</td>\n",
       "    </tr>\n",
       "    <tr>\n",
       "      <th>28</th>\n",
       "      <td>Sep 13, 2024</td>\n",
       "      <td>Paid to Ramesh parlour</td>\n",
       "      <td>DEBIT</td>\n",
       "      <td>₹60</td>\n",
       "    </tr>\n",
       "    <tr>\n",
       "      <th>31</th>\n",
       "      <td>Sep 13, 2024</td>\n",
       "      <td>Received from Umesh Kumar</td>\n",
       "      <td>CREDIT</td>\n",
       "      <td>₹500</td>\n",
       "    </tr>\n",
       "    <tr>\n",
       "      <th>34</th>\n",
       "      <td>Sep 13, 2024</td>\n",
       "      <td>Mobile recharged 9997343165</td>\n",
       "      <td>DEBIT</td>\n",
       "      <td>₹22</td>\n",
       "    </tr>\n",
       "    <tr>\n",
       "      <th>...</th>\n",
       "      <td>...</td>\n",
       "      <td>...</td>\n",
       "      <td>...</td>\n",
       "      <td>...</td>\n",
       "    </tr>\n",
       "    <tr>\n",
       "      <th>1047</th>\n",
       "      <td>Jan 03, 2024</td>\n",
       "      <td>Paid to HELTHY HUT DOODH DAIRY</td>\n",
       "      <td>DEBIT</td>\n",
       "      <td>₹10</td>\n",
       "    </tr>\n",
       "    <tr>\n",
       "      <th>1050</th>\n",
       "      <td>Jan 02, 2024</td>\n",
       "      <td>Paid to PAPPU LAL SHARMA</td>\n",
       "      <td>DEBIT</td>\n",
       "      <td>₹30</td>\n",
       "    </tr>\n",
       "    <tr>\n",
       "      <th>1052</th>\n",
       "      <td>Jan 02, 2024</td>\n",
       "      <td>Paid to MANGAVA SALES</td>\n",
       "      <td>DEBIT</td>\n",
       "      <td>₹28</td>\n",
       "    </tr>\n",
       "    <tr>\n",
       "      <th>1055</th>\n",
       "      <td>Jan 02, 2024</td>\n",
       "      <td>Paid to Kotak Securities Limited</td>\n",
       "      <td>DEBIT</td>\n",
       "      <td>₹299</td>\n",
       "    </tr>\n",
       "    <tr>\n",
       "      <th>1059</th>\n",
       "      <td>Jan 01, 2024</td>\n",
       "      <td>Paid to MANGAVA SALES</td>\n",
       "      <td>DEBIT</td>\n",
       "      <td>₹60</td>\n",
       "    </tr>\n",
       "  </tbody>\n",
       "</table>\n",
       "<p>347 rows × 4 columns</p>\n",
       "</div>"
      ],
      "text/plain": [
       "     Transaction Statement for 8233101894                        Unnamed: 1  \\\n",
       "1                                    Date               Transaction Details   \n",
       "25                           Sep 13, 2024               Paid to Vijay Singh   \n",
       "28                           Sep 13, 2024            Paid to Ramesh parlour   \n",
       "31                           Sep 13, 2024         Received from Umesh Kumar   \n",
       "34                           Sep 13, 2024       Mobile recharged 9997343165   \n",
       "...                                   ...                               ...   \n",
       "1047                         Jan 03, 2024    Paid to HELTHY HUT DOODH DAIRY   \n",
       "1050                         Jan 02, 2024          Paid to PAPPU LAL SHARMA   \n",
       "1052                         Jan 02, 2024             Paid to MANGAVA SALES   \n",
       "1055                         Jan 02, 2024  Paid to Kotak Securities Limited   \n",
       "1059                         Jan 01, 2024             Paid to MANGAVA SALES   \n",
       "\n",
       "     Unnamed: 2 Unnamed: 3  \n",
       "1          Type     Amount  \n",
       "25        DEBIT        ₹40  \n",
       "28        DEBIT        ₹60  \n",
       "31       CREDIT       ₹500  \n",
       "34        DEBIT        ₹22  \n",
       "...         ...        ...  \n",
       "1047      DEBIT        ₹10  \n",
       "1050      DEBIT        ₹30  \n",
       "1052      DEBIT        ₹28  \n",
       "1055      DEBIT       ₹299  \n",
       "1059      DEBIT        ₹60  \n",
       "\n",
       "[347 rows x 4 columns]"
      ]
     },
     "execution_count": 10,
     "metadata": {},
     "output_type": "execute_result"
    }
   ],
   "source": [
    "df"
   ]
  },
  {
   "cell_type": "code",
   "execution_count": 11,
   "id": "da9a53e1-42fc-42dc-9839-74b1d590e702",
   "metadata": {},
   "outputs": [
    {
     "data": {
      "text/plain": [
       "(347, 4)"
      ]
     },
     "execution_count": 11,
     "metadata": {},
     "output_type": "execute_result"
    }
   ],
   "source": [
    "df.shape"
   ]
  },
  {
   "cell_type": "code",
   "execution_count": 12,
   "id": "57a4de5b-e571-41da-a7d8-87b2cfb266be",
   "metadata": {},
   "outputs": [
    {
     "data": {
      "text/plain": [
       "(1060, 4)"
      ]
     },
     "execution_count": 12,
     "metadata": {},
     "output_type": "execute_result"
    }
   ],
   "source": [
    "test_df.shape"
   ]
  },
  {
   "cell_type": "code",
   "execution_count": null,
   "id": "1d074a08-2e7a-4408-af14-d48ccd954280",
   "metadata": {},
   "outputs": [],
   "source": []
  }
 ],
 "metadata": {
  "kernelspec": {
   "display_name": "Python 3 (ipykernel)",
   "language": "python",
   "name": "python3"
  },
  "language_info": {
   "codemirror_mode": {
    "name": "ipython",
    "version": 3
   },
   "file_extension": ".py",
   "mimetype": "text/x-python",
   "name": "python",
   "nbconvert_exporter": "python",
   "pygments_lexer": "ipython3",
   "version": "3.12.6"
  }
 },
 "nbformat": 4,
 "nbformat_minor": 5
}
